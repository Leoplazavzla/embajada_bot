{
 "cells": [
  {
   "cell_type": "code",
   "execution_count": 46,
   "metadata": {},
   "outputs": [],
   "source": [
    "import os\n",
    "import random\n",
    "import sys\n",
    "import time\n",
    "from selenium.common.exceptions import ElementNotInteractableException\n",
    "from selenium.common.exceptions import UnexpectedAlertPresentException\n",
    "from selenium.common.exceptions import NoAlertPresentException\n",
    "from selenium import webdriver\n",
    "from selenium.webdriver.common.keys import Keys\n",
    "from selenium.webdriver.support.ui import Select\n",
    "from selenium.webdriver.common.by import By\n",
    "from selenium.webdriver import ActionChains\n",
    "from selenium.webdriver.support.ui import WebDriverWait\n",
    "from selenium.webdriver.support import expected_conditions as EC\n",
    "from datetime import date"
   ]
  },
  {
   "cell_type": "code",
   "execution_count": 47,
   "metadata": {},
   "outputs": [
    {
     "name": "stderr",
     "output_type": "stream",
     "text": [
      "C:\\Users\\LEONAR~1\\AppData\\Local\\Temp/ipykernel_8804/4264388243.py:2: DeprecationWarning: executable_path has been deprecated, please pass in a Service object\n",
      "  driver = webdriver.Firefox(executable_path=r'./driver/geckodriver.exe')\n"
     ]
    }
   ],
   "source": [
    "# Open Webdriver\n",
    "driver = webdriver.Firefox(executable_path=r'./driver/geckodriver.exe')\n",
    "driver.set_window_size(1000,800)\n",
    "time.sleep(3)"
   ]
  },
  {
   "cell_type": "code",
   "execution_count": 48,
   "metadata": {},
   "outputs": [],
   "source": [
    "def bookingAppoinment():\n",
    "    driver.get('https://pastel.diplomatie.gouv.fr/rdvinternet/html-4.02.00/frameset/frameset.html?lcid=1&sgid=74&suid=14')\n",
    "    time.sleep(5)\n",
    "    driver.switch_to.frame(driver.find_element(By.ID, \"BODY_WIN\"))\n",
    "    time.sleep(1)\n",
    "    driver.switch_to.frame(driver.find_element(By.XPATH, '//*[@id=\"MENU_WIN\"]'))\n",
    "    time.sleep(1)\n",
    "    book_appoinment = driver.find_element(By.XPATH, '/html/body/div/table/tbody/tr[2]/td/table/tbody/tr[2]/td/div/table/tbody/tr[1]/td')\n",
    "    book_appoinment.click()\n",
    "    time.sleep(1)\n",
    "    driver.switch_to.default_content()\n",
    "    time.sleep(1)\n",
    "    driver.switch_to.frame(driver.find_element(By.ID, \"BODY_WIN\"))\n",
    "    time.sleep(1)\n",
    "    driver.switch_to.frame(driver.find_element(By.XPATH, '//*[@id=\"CONTENU_WIN\"]'))\n",
    "    time.sleep(1)\n",
    "    check_input = driver.find_element(By.ID, 'ccg')\n",
    "    check_input.click()\n",
    "    time.sleep(2)\n",
    "    driver.find_element(By.ID, 'boutonSuivant_link').click()\n",
    "    time.sleep(5)\n",
    "    try:\n",
    "        alert = driver.switch_to.alert\n",
    "        alert.accept()\n",
    "    except:\n",
    "        print('no alert')\n"
   ]
  },
  {
   "cell_type": "code",
   "execution_count": 49,
   "metadata": {},
   "outputs": [],
   "source": [
    "bookingAppoinment()"
   ]
  },
  {
   "cell_type": "code",
   "execution_count": 50,
   "metadata": {},
   "outputs": [],
   "source": [
    "def fill_form():\n",
    "        try:\n",
    "                pencil_table = driver.find_element(By.ID, 'compTableau_tbody')\n",
    "                pencil_table.find_element(By.TAG_NAME, 'a').click()\n",
    "                time.sleep(1)\n",
    "                driver.find_element(By.ID, 'boutonSuivant_link').click()\n",
    "                time.sleep(3)\n",
    "                last_name = driver.find_element(By.ID, 'nom').send_keys('ALGASIBIUR')\n",
    "                family_name = driver.find_element(By.ID, 'nomnaiss').send_keys('ALGASIBIUR')\n",
    "                first_name = driver.find_element(By.ID, 'prenoms').send_keys('Martin')\n",
    "                birth_year = driver.find_element(By.ID, 'neen1').send_keys('1990')\n",
    "                birth_month = driver.find_element(By.ID, 'neen2').send_keys('07')\n",
    "                birth_day = driver.find_element(By.ID, 'neen3').send_keys('05')\n",
    "                time.sleep(3)\n",
    "                country_select = driver.find_element(By.ID, 'natactuelle')\n",
    "                option = country_select.find_element(By.XPATH, '//option[@value=\"10\"]')\n",
    "                option.click()\n",
    "                time.sleep(2)\n",
    "                sex = driver.find_element(By.XPATH, '//*[@id=\"sexe\"]').click()\n",
    "                time.sleep(2)\n",
    "                passport_num = driver.find_element(By.ID, 'num').send_keys('AAG439899')\n",
    "                telephone_num = driver.find_element(By.ID, 'telephone').send_keys('3407458972')\n",
    "                email = driver.find_element(By.ID, 'email').send_keys('malgasibiur@gmail.com')\n",
    "                email = driver.find_element(By.ID, 'confirm_email').send_keys('malgasibiur@gmail.com')\n",
    "                confirm_button = driver.find_element(By.ID, 'boutonValider_link')\n",
    "                confirm_button.click()\n",
    "                time.sleep(1)\n",
    "                try: \n",
    "                        alert = driver.switch_to.alert\n",
    "                        alert.accept()\n",
    "                except UnexpectedAlertPresentException:\n",
    "                        time.sleep(4)\n",
    "                        alert = driver.switch_to.alert\n",
    "                        alert.accept()\n",
    "                return True\n",
    "        except:\n",
    "                print('no pencil table')\n",
    "#driver.close()\n",
    "\n",
    "        "
   ]
  },
  {
   "cell_type": "code",
   "execution_count": 42,
   "metadata": {},
   "outputs": [
    {
     "name": "stdout",
     "output_type": "stream",
     "text": [
      "no pencil table\n"
     ]
    }
   ],
   "source": [
    "fill_form()"
   ]
  },
  {
   "cell_type": "code",
   "execution_count": 51,
   "metadata": {},
   "outputs": [],
   "source": [
    "def booking_appoinment_2():\n",
    "    driver.refresh()\n",
    "    time.sleep(1)\n",
    "    driver.switch_to.default_content()\n",
    "    time.sleep(5)\n",
    "    driver.switch_to.frame(driver.find_element(By.ID, \"BODY_WIN\"))\n",
    "    time.sleep(1)\n",
    "    driver.switch_to.frame(driver.find_element(By.XPATH, '//*[@id=\"CONTENU_WIN\"]'))\n",
    "    time.sleep(1)\n",
    "    driver.find_element(By.ID, 'boutonSuivant_link').click()\n",
    "    time.sleep(3)\n",
    "    try:\n",
    "        alert = driver.switch_to.alert\n",
    "        alert.accept()\n",
    "    except NoAlertPresentException:\n",
    "        print('no alert')"
   ]
  },
  {
   "cell_type": "code",
   "execution_count": 52,
   "metadata": {},
   "outputs": [],
   "source": [
    "def recursion():\n",
    "    print('enterin recursion')\n",
    "    booking_appoinment_2()\n",
    "    time.sleep(5)\n",
    "    print('Booking appoinment')\n",
    "    fill_form()\n",
    "    time.sleep(5)\n",
    "    recursion()"
   ]
  },
  {
   "cell_type": "code",
   "execution_count": 53,
   "metadata": {},
   "outputs": [
    {
     "name": "stdout",
     "output_type": "stream",
     "text": [
      "enterin recursion\n",
      "Booking appoinment\n",
      "no pencil table\n",
      "enterin recursion\n",
      "Booking appoinment\n",
      "no pencil table\n",
      "enterin recursion\n"
     ]
    },
    {
     "ename": "KeyboardInterrupt",
     "evalue": "",
     "output_type": "error",
     "traceback": [
      "\u001b[1;31m---------------------------------------------------------------------------\u001b[0m",
      "\u001b[1;31mKeyboardInterrupt\u001b[0m                         Traceback (most recent call last)",
      "\u001b[1;32mC:\\Users\\LEONAR~1\\AppData\\Local\\Temp/ipykernel_8804/1118091169.py\u001b[0m in \u001b[0;36m<module>\u001b[1;34m\u001b[0m\n\u001b[1;32m----> 1\u001b[1;33m \u001b[0mrecursion\u001b[0m\u001b[1;33m(\u001b[0m\u001b[1;33m)\u001b[0m\u001b[1;33m\u001b[0m\u001b[1;33m\u001b[0m\u001b[0m\n\u001b[0m",
      "\u001b[1;32mC:\\Users\\LEONAR~1\\AppData\\Local\\Temp/ipykernel_8804/1800741270.py\u001b[0m in \u001b[0;36mrecursion\u001b[1;34m()\u001b[0m\n\u001b[0;32m      6\u001b[0m     \u001b[0mfill_form\u001b[0m\u001b[1;33m(\u001b[0m\u001b[1;33m)\u001b[0m\u001b[1;33m\u001b[0m\u001b[1;33m\u001b[0m\u001b[0m\n\u001b[0;32m      7\u001b[0m     \u001b[0mtime\u001b[0m\u001b[1;33m.\u001b[0m\u001b[0msleep\u001b[0m\u001b[1;33m(\u001b[0m\u001b[1;36m5\u001b[0m\u001b[1;33m)\u001b[0m\u001b[1;33m\u001b[0m\u001b[1;33m\u001b[0m\u001b[0m\n\u001b[1;32m----> 8\u001b[1;33m     \u001b[0mrecursion\u001b[0m\u001b[1;33m(\u001b[0m\u001b[1;33m)\u001b[0m\u001b[1;33m\u001b[0m\u001b[1;33m\u001b[0m\u001b[0m\n\u001b[0m",
      "\u001b[1;32mC:\\Users\\LEONAR~1\\AppData\\Local\\Temp/ipykernel_8804/1800741270.py\u001b[0m in \u001b[0;36mrecursion\u001b[1;34m()\u001b[0m\n\u001b[0;32m      6\u001b[0m     \u001b[0mfill_form\u001b[0m\u001b[1;33m(\u001b[0m\u001b[1;33m)\u001b[0m\u001b[1;33m\u001b[0m\u001b[1;33m\u001b[0m\u001b[0m\n\u001b[0;32m      7\u001b[0m     \u001b[0mtime\u001b[0m\u001b[1;33m.\u001b[0m\u001b[0msleep\u001b[0m\u001b[1;33m(\u001b[0m\u001b[1;36m5\u001b[0m\u001b[1;33m)\u001b[0m\u001b[1;33m\u001b[0m\u001b[1;33m\u001b[0m\u001b[0m\n\u001b[1;32m----> 8\u001b[1;33m     \u001b[0mrecursion\u001b[0m\u001b[1;33m(\u001b[0m\u001b[1;33m)\u001b[0m\u001b[1;33m\u001b[0m\u001b[1;33m\u001b[0m\u001b[0m\n\u001b[0m",
      "\u001b[1;32mC:\\Users\\LEONAR~1\\AppData\\Local\\Temp/ipykernel_8804/1800741270.py\u001b[0m in \u001b[0;36mrecursion\u001b[1;34m()\u001b[0m\n\u001b[0;32m      1\u001b[0m \u001b[1;32mdef\u001b[0m \u001b[0mrecursion\u001b[0m\u001b[1;33m(\u001b[0m\u001b[1;33m)\u001b[0m\u001b[1;33m:\u001b[0m\u001b[1;33m\u001b[0m\u001b[1;33m\u001b[0m\u001b[0m\n\u001b[0;32m      2\u001b[0m     \u001b[0mprint\u001b[0m\u001b[1;33m(\u001b[0m\u001b[1;34m'enterin recursion'\u001b[0m\u001b[1;33m)\u001b[0m\u001b[1;33m\u001b[0m\u001b[1;33m\u001b[0m\u001b[0m\n\u001b[1;32m----> 3\u001b[1;33m     \u001b[0mbooking_appoinment_2\u001b[0m\u001b[1;33m(\u001b[0m\u001b[1;33m)\u001b[0m\u001b[1;33m\u001b[0m\u001b[1;33m\u001b[0m\u001b[0m\n\u001b[0m\u001b[0;32m      4\u001b[0m     \u001b[0mtime\u001b[0m\u001b[1;33m.\u001b[0m\u001b[0msleep\u001b[0m\u001b[1;33m(\u001b[0m\u001b[1;36m5\u001b[0m\u001b[1;33m)\u001b[0m\u001b[1;33m\u001b[0m\u001b[1;33m\u001b[0m\u001b[0m\n\u001b[0;32m      5\u001b[0m     \u001b[0mprint\u001b[0m\u001b[1;33m(\u001b[0m\u001b[1;34m'Booking appoinment'\u001b[0m\u001b[1;33m)\u001b[0m\u001b[1;33m\u001b[0m\u001b[1;33m\u001b[0m\u001b[0m\n",
      "\u001b[1;32mC:\\Users\\LEONAR~1\\AppData\\Local\\Temp/ipykernel_8804/1994430528.py\u001b[0m in \u001b[0;36mbooking_appoinment_2\u001b[1;34m()\u001b[0m\n\u001b[0;32m      5\u001b[0m     \u001b[0mtime\u001b[0m\u001b[1;33m.\u001b[0m\u001b[0msleep\u001b[0m\u001b[1;33m(\u001b[0m\u001b[1;36m5\u001b[0m\u001b[1;33m)\u001b[0m\u001b[1;33m\u001b[0m\u001b[1;33m\u001b[0m\u001b[0m\n\u001b[0;32m      6\u001b[0m     \u001b[0mdriver\u001b[0m\u001b[1;33m.\u001b[0m\u001b[0mswitch_to\u001b[0m\u001b[1;33m.\u001b[0m\u001b[0mframe\u001b[0m\u001b[1;33m(\u001b[0m\u001b[0mdriver\u001b[0m\u001b[1;33m.\u001b[0m\u001b[0mfind_element\u001b[0m\u001b[1;33m(\u001b[0m\u001b[0mBy\u001b[0m\u001b[1;33m.\u001b[0m\u001b[0mID\u001b[0m\u001b[1;33m,\u001b[0m \u001b[1;34m\"BODY_WIN\"\u001b[0m\u001b[1;33m)\u001b[0m\u001b[1;33m)\u001b[0m\u001b[1;33m\u001b[0m\u001b[1;33m\u001b[0m\u001b[0m\n\u001b[1;32m----> 7\u001b[1;33m     \u001b[0mtime\u001b[0m\u001b[1;33m.\u001b[0m\u001b[0msleep\u001b[0m\u001b[1;33m(\u001b[0m\u001b[1;36m1\u001b[0m\u001b[1;33m)\u001b[0m\u001b[1;33m\u001b[0m\u001b[1;33m\u001b[0m\u001b[0m\n\u001b[0m\u001b[0;32m      8\u001b[0m     \u001b[0mdriver\u001b[0m\u001b[1;33m.\u001b[0m\u001b[0mswitch_to\u001b[0m\u001b[1;33m.\u001b[0m\u001b[0mframe\u001b[0m\u001b[1;33m(\u001b[0m\u001b[0mdriver\u001b[0m\u001b[1;33m.\u001b[0m\u001b[0mfind_element\u001b[0m\u001b[1;33m(\u001b[0m\u001b[0mBy\u001b[0m\u001b[1;33m.\u001b[0m\u001b[0mXPATH\u001b[0m\u001b[1;33m,\u001b[0m \u001b[1;34m'//*[@id=\"CONTENU_WIN\"]'\u001b[0m\u001b[1;33m)\u001b[0m\u001b[1;33m)\u001b[0m\u001b[1;33m\u001b[0m\u001b[1;33m\u001b[0m\u001b[0m\n\u001b[0;32m      9\u001b[0m     \u001b[0mtime\u001b[0m\u001b[1;33m.\u001b[0m\u001b[0msleep\u001b[0m\u001b[1;33m(\u001b[0m\u001b[1;36m1\u001b[0m\u001b[1;33m)\u001b[0m\u001b[1;33m\u001b[0m\u001b[1;33m\u001b[0m\u001b[0m\n",
      "\u001b[1;31mKeyboardInterrupt\u001b[0m: "
     ]
    }
   ],
   "source": [
    "recursion()"
   ]
  },
  {
   "cell_type": "code",
   "execution_count": null,
   "metadata": {},
   "outputs": [],
   "source": [
    "boutonImprimer_link"
   ]
  }
 ],
 "metadata": {
  "interpreter": {
   "hash": "5ddbd716a54ef944e51b72047170215a57d4f28d5f81f1608eccc619de852ca2"
  },
  "kernelspec": {
   "display_name": "Python 3.9.6 64-bit",
   "language": "python",
   "name": "python3"
  },
  "language_info": {
   "codemirror_mode": {
    "name": "ipython",
    "version": 3
   },
   "file_extension": ".py",
   "mimetype": "text/x-python",
   "name": "python",
   "nbconvert_exporter": "python",
   "pygments_lexer": "ipython3",
   "version": "3.9.6"
  },
  "orig_nbformat": 4
 },
 "nbformat": 4,
 "nbformat_minor": 2
}
